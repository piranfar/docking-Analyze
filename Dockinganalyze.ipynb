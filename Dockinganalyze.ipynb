{
  "nbformat": 4,
  "nbformat_minor": 0,
  "metadata": {
    "colab": {
      "provenance": [],
      "authorship_tag": "ABX9TyPIosQO90Kqgaz1YAlxUNuf",
      "include_colab_link": true
    },
    "kernelspec": {
      "name": "python3",
      "display_name": "Python 3"
    },
    "language_info": {
      "name": "python"
    }
  },
  "cells": [
    {
      "cell_type": "markdown",
      "metadata": {
        "id": "view-in-github",
        "colab_type": "text"
      },
      "source": [
        "<a href=\"https://colab.research.google.com/github/piranfar/docking-Analyze/blob/main/Dockinganalyze.ipynb\" target=\"_parent\"><img src=\"https://colab.research.google.com/assets/colab-badge.svg\" alt=\"Open In Colab\"/></a>"
      ]
    },
    {
      "source": [
        "import pandas as pd\n",
        "import matplotlib.pyplot as plt\n",
        "import seaborn as sns\n",
        "import re\n",
        "from google.colab import files\n",
        "\n",
        "def analyze_dlg():\n",
        "    \"\"\"Analyzes AutoDock DLG file, extracts binding energies,\n",
        "    creates a table and plot, and saves results.\"\"\"\n",
        "\n",
        "    # Step 1: Upload the AutoDock DLG file\n",
        "    print(\"📤 Please upload your AutoDock results file (.dlg):\")\n",
        "    uploaded = files.upload()\n",
        "\n",
        "    # Get the filename\n",
        "    dlg_filename = list(uploaded.keys())[0]\n",
        "\n",
        "    # Step 2: Extract Binding Energies with Regex\n",
        "    binding_energies = []\n",
        "    pattern = r\"Estimated Free Energy of Binding\\s+=\\s+(-?\\d+\\.\\d+)\\s+kcal/mol\"\n",
        "\n",
        "    with open(dlg_filename, \"r\", encoding=\"utf-8\", errors=\"ignore\") as file:\n",
        "        for line in file:\n",
        "            match = re.search(pattern, line)\n",
        "            if match:\n",
        "                binding_energies.append(float(match.group(1)))\n",
        "\n",
        "    # Step 3: Store results in a DataFrame\n",
        "    df_binding_energies = pd.DataFrame({\n",
        "        \"Pose\": list(range(1, len(binding_energies) + 1)),\n",
        "        \"Binding Energy (kcal/mol)\": binding_energies\n",
        "    })\n",
        "\n",
        "    # Step 4: Display the extracted data\n",
        "    if df_binding_energies.empty:\n",
        "        print(\"⚠️ No binding energies were extracted. Please check your DLG file format.\")\n",
        "        return  # Exit if no data found\n",
        "\n",
        "    from IPython.display import display\n",
        "    display(df_binding_energies)\n",
        "\n",
        "    # Step 5: Save results as CSV\n",
        "    csv_filename = \"binding_energies.csv\"\n",
        "    df_binding_energies.to_csv(csv_filename, index=False)\n",
        "    print(f\"✅ Results saved as '{csv_filename}'. You can download it below:\")\n",
        "    files.download(csv_filename)\n",
        "\n",
        "    # Step 6: Visualization\n",
        "    def _plot_series(series, series_name, series_index=0):\n",
        "        palette = list(sns.palettes.mpl_palette('Dark2'))\n",
        "        xs = series['Pose']\n",
        "        ys = series['Binding Energy (kcal/mol)']\n",
        "        plt.plot(xs, ys, label=series_name, color=palette[series_index % len(palette)])\n",
        "\n",
        "    fig, ax = plt.subplots(figsize=(10, 5.2), layout='constrained')\n",
        "    df_sorted = df_binding_energies.sort_values('Pose', ascending=True)\n",
        "    _plot_series(df_sorted, '')\n",
        "    sns.despine(fig=fig, ax=ax)\n",
        "    plt.xlabel('Pose')\n",
        "    plt.ylabel('Binding Energy (kcal/mol)')\n",
        "    plt.title(\"Pose vs Binding Energy (kcal/mol)\")  # Add title\n",
        "    plt.show()\n",
        "\n",
        "# Call the function to start the analysis\n",
        "analyze_dlg()"
      ],
      "cell_type": "code",
      "metadata": {
        "id": "bArwRpHoTGOA"
      },
      "execution_count": null,
      "outputs": []
    }
  ]
}