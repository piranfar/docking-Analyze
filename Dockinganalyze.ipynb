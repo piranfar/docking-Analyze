{
  "nbformat": 4,
  "nbformat_minor": 0,
  "metadata": {
    "colab": {
      "provenance": [],
      "authorship_tag": "ABX9TyP1Zs+CLm02OtxUYHcNAYjY",
      "include_colab_link": true
    },
    "kernelspec": {
      "name": "python3",
      "display_name": "Python 3"
    },
    "language_info": {
      "name": "python"
    }
  },
  "cells": [
    {
      "cell_type": "markdown",
      "metadata": {
        "id": "view-in-github",
        "colab_type": "text"
      },
      "source": [
        "<a href=\"https://colab.research.google.com/github/piranfar/docking-Analyze/blob/main/Dockinganalyze.ipynb\" target=\"_parent\"><img src=\"https://colab.research.google.com/assets/colab-badge.svg\" alt=\"Open In Colab\"/></a>"
      ]
    },
    {
      "cell_type": "code",
      "execution_count": null,
      "metadata": {
        "id": "hyvIdE8untPU"
      },
      "outputs": [],
      "source": [
        "import pandas as pd\n",
        "import matplotlib.pyplot as plt\n",
        "from google.colab import files\n",
        "import io\n",
        "\n",
        "def analyze_dlg_with_visualization(save_excel=False, save_plot=False):\n",
        "    \"\"\"آنالیز فایل DLG، نمایش جدول و نمودار، و ذخیره اختیاری.\"\"\"\n",
        "\n",
        "    # آپلود فایل\n",
        "    uploaded = files.upload()\n",
        "    dlg_file_name = next(iter(uploaded))\n",
        "    dlg_content = uploaded[dlg_file_name].decode('utf-8').splitlines()\n",
        "\n",
        "    # استخراج نتایج داکینگ\n",
        "    docking_data = []\n",
        "    capture_results = False\n",
        "\n",
        "    for line in dlg_content:\n",
        "        if \"DOCKED: MODEL\" in line:\n",
        "            capture_results = True\n",
        "        elif \"DOCKED: ENDMDL\" in line:\n",
        "            capture_results = False\n",
        "        if capture_results:\n",
        "            docking_data.append(line.strip())\n",
        "\n",
        "    # پردازش امتیازات داکینگ\n",
        "    binding_energies = []\n",
        "    rmsd_values = []\n",
        "    for line in docking_data:\n",
        "        if \"DOCKED: USER    Estimated Free Energy of Binding\" in line:\n",
        "            energy = float(line.split()[-2])\n",
        "            binding_energies.append(energy)\n",
        "        if \"DOCKED: USER    RMSD from best mode\" in line:\n",
        "            rmsd = float(line.split()[-1])\n",
        "            rmsd_values.append(rmsd)\n",
        "\n",
        "    # ایجاد DataFrame\n",
        "    df_results = pd.DataFrame({\n",
        "        \"Pose\": list(range(1, len(binding_energies) + 1)),\n",
        "        \"Binding Energy (kcal/mol)\": binding_energies,\n",
        "        \"RMSD (Å)\": rmsd_values\n",
        "    })\n",
        "\n",
        "    # نمایش جدول\n",
        "    print(\"\\nDocking Results Table:\\n\")\n",
        "    print(df_results)\n",
        "\n",
        "    # ایجاد نمودار پراکندگی\n",
        "    plt.figure(figsize=(10, 6))\n",
        "    plt.scatter(df_results[\"Pose\"], df_results[\"Binding Energy (kcal/mol)\"])\n",
        "    plt.title(\"Binding Energy vs. Pose\")\n",
        "    plt.xlabel(\"Pose\")\n",
        "    plt.ylabel(\"Binding Energy (kcal/mol)\")\n",
        "    plt.grid(True)\n",
        "    plt.show()\n",
        "\n",
        "    # ذخیره در اکسل (اختیاری)\n",
        "    if save_excel:\n",
        "        excel_file_name = \"docking_results.xlsx\"\n",
        "        df_results.to_excel(excel_file_name, index=False)\n",
        "        files.download(excel_file_name)\n",
        "\n",
        "    # ذخیره نمودار به عنوان تصویر (اختیاری)\n",
        "    if save_plot:\n",
        "        plot_file_name = \"binding_energy_plot.png\"\n",
        "        plt.savefig(plot_file_name)\n",
        "        files.download(plot_file_name)\n",
        "\n",
        "# اجرای تابع با ذخیره اختیاری\n",
        "analyze_dlg_with_visualization(save_excel=True, save_plot=True)"
      ]
    }
  ]
}